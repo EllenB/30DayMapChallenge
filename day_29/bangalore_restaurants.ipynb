{
 "cells": [
  {
   "cell_type": "markdown",
   "metadata": {},
   "source": [
    "This code is based on the documentation of Ouverture using Lonboard: https://docs.overturemaps.org/examples/lonboard/"
   ]
  },
  {
   "cell_type": "code",
   "execution_count": 42,
   "metadata": {},
   "outputs": [],
   "source": [
    "import geopandas as gpd\n",
    "import numpy as np\n",
    "import overturemaps\n",
    "\n",
    "from lonboard import Map, ScatterplotLayer\n",
    "from lonboard.basemap import CartoBasemap\n",
    "from shapely import wkb\n",
    "from overturemaps import core\n",
    "\n",
    "import osmnx as ox"
   ]
  },
  {
   "cell_type": "code",
   "execution_count": 3,
   "metadata": {},
   "outputs": [],
   "source": [
    "bangalore = ox.geocode_to_gdf(\"Bangalore, India\")"
   ]
  },
  {
   "cell_type": "code",
   "execution_count": 4,
   "metadata": {},
   "outputs": [
    {
     "data": {
      "text/plain": [
       "<Axes: >"
      ]
     },
     "execution_count": 4,
     "metadata": {},
     "output_type": "execute_result"
    },
    {
     "data": {
      "image/png": "[encoded data removed]",
      "text/plain": [
       "<Figure size 640x480 with 1 Axes>"
      ]
     },
     "metadata": {},
     "output_type": "display_data"
    }
   ],
   "source": [
    "bangalore.plot()"
   ]
  },
  {
   "cell_type": "code",
   "execution_count": 5,
   "metadata": {},
   "outputs": [],
   "source": [
    "boundaries = bangalore.geometry.unary_union"
   ]
  },
  {
   "cell_type": "code",
   "execution_count": 6,
   "metadata": {},
   "outputs": [],
   "source": [
    "long_lat_boundaries = boundaries.bounds"
   ]
  },
  {
   "cell_type": "code",
   "execution_count": 7,
   "metadata": {},
   "outputs": [
    {
     "data": {
      "text/plain": [
       "(77.4600507, 12.8336251, 77.7843613, 13.1426598)"
      ]
     },
     "execution_count": 7,
     "metadata": {},
     "output_type": "execute_result"
    }
   ],
   "source": [
    "long_lat_boundaries"
   ]
  },
  {
   "cell_type": "code",
   "execution_count": 8,
   "metadata": {},
   "outputs": [],
   "source": [
    "bbox = long_lat_boundaries"
   ]
  },
  {
   "cell_type": "code",
   "execution_count": 9,
   "metadata": {},
   "outputs": [],
   "source": [
    "# This throws an error - need to log ticket\n",
    "# gdf = core.geodataframe(\"place\", bbox=bbox)"
   ]
  },
  {
   "cell_type": "code",
   "execution_count": 10,
   "metadata": {},
   "outputs": [],
   "source": [
    "# Do longer route\n",
    "table = overturemaps.record_batch_reader(\"place\", bbox).read_all()\n",
    "table = table.combine_chunks()"
   ]
  },
  {
   "cell_type": "code",
   "execution_count": 11,
   "metadata": {},
   "outputs": [
    {
     "data": {
      "text/plain": [
       "pyarrow.Table\n",
       "id: string\n",
       "geometry: binary\n",
       "bbox: struct<xmin: float, xmax: float, ymin: float, ymax: float>\n",
       "  child 0, xmin: float\n",
       "  child 1, xmax: float\n",
       "  child 2, ymin: float\n",
       "  child 3, ymax: float\n",
       "version: int32\n",
       "sources: list<element: struct<property: string, dataset: string, record_id: string, update_time: string, confidence: double>>\n",
       "  child 0, element: struct<property: string, dataset: string, record_id: string, update_time: string, confidence: double>\n",
       "      child 0, property: string\n",
       "      child 1, dataset: string\n",
       "      child 2, record_id: string\n",
       "      child 3, update_time: string\n",
       "      child 4, confidence: double\n",
       "names: struct<primary: string, common: map<string, string ('common')>, rules: list<element: struct<variant: string, language: string, value: string, between: list<element: double>, side: string>>>\n",
       "  child 0, primary: string\n",
       "  child 1, common: map<string, string ('common')>\n",
       "      child 0, common: struct<key: string not null, value: string> not null\n",
       "          child 0, key: string not null\n",
       "          child 1, value: string\n",
       "  child 2, rules: list<element: struct<variant: string, language: string, value: string, between: list<element: double>, side: string>>\n",
       "      child 0, element: struct<variant: string, language: string, value: string, between: list<element: double>, side: string>\n",
       "          child 0, variant: string\n",
       "          child 1, language: string\n",
       "          child 2, value: string\n",
       "          child 3, between: list<element: double>\n",
       "              child 0, element: double\n",
       "          child 4, side: string\n",
       "categories: struct<primary: string, alternate: list<element: string>>\n",
       "  child 0, primary: string\n",
       "  child 1, alternate: list<element: string>\n",
       "      child 0, element: string\n",
       "confidence: double\n",
       "websites: list<element: string>\n",
       "  child 0, element: string\n",
       "socials: list<element: string>\n",
       "  child 0, element: string\n",
       "emails: list<element: string>\n",
       "  child 0, element: string\n",
       "phones: list<element: string>\n",
       "  child 0, element: string\n",
       "brand: struct<wikidata: string, names: struct<primary: string, common: map<string, string ('common')>, rules: list<element: struct<variant: string, language: string, value: string, between: list<element: double>, side: string>>>>\n",
       "  child 0, wikidata: string\n",
       "  child 1, names: struct<primary: string, common: map<string, string ('common')>, rules: list<element: struct<variant: string, language: string, value: string, between: list<element: double>, side: string>>>\n",
       "      child 0, primary: string\n",
       "      child 1, common: map<string, string ('common')>\n",
       "          child 0, common: struct<key: string not null, value: string> not null\n",
       "              child 0, key: string not null\n",
       "              child 1, value: string\n",
       "      child 2, rules: list<element: struct<variant: string, language: string, value: string, between: list<element: double>, side: string>>\n",
       "          child 0, element: struct<variant: string, language: string, value: string, between: list<element: double>, side: string>\n",
       "              child 0, variant: string\n",
       "              child 1, language: string\n",
       "              child 2, value: string\n",
       "              child 3, between: list<element: double>\n",
       "                  child 0, element: double\n",
       "              child 4, side: string\n",
       "addresses: list<element: struct<freeform: string, locality: string, postcode: string, region: string, country: string>>\n",
       "  child 0, element: struct<freeform: string, locality: string, postcode: string, region: string, country: string>\n",
       "      child 0, freeform: string\n",
       "      child 1, locality: string\n",
       "      child 2, postcode: string\n",
       "      child 3, region: string\n",
       "      child 4, country: string\n",
       "----\n",
       "id: [[\"08f601450331001d035e974c03daf427\",\"08f6014503069880033e767c5e25b3b0\",\"08f60145038f262903667ae29bd1ef61\",\"08f60145030ac148039fb3a3fe22a6d5\",\"08f6014503603c8c03dd6e0b4af0c050\",...,\"08f6189298b49b22038c3b8fd9cf2462\",\"08f601692087295503c9ab559d3c13fa\",\"08f601692465539e03d5bde5b1f324b6\",\"08f601692467235903d8b444ccf86a50\",\"08f601692470348c032255f8b12799a2\"]]\n",
       "geometry: [[000000000140535D7DD1BCF6964029B3939A7C17A9,000000000140535D95C853C1484029B2E5796BFCA8,000000000140535E068A5DBC744029B1AA0CAE642C,000000000140535DDC725C3DEE4029B50268900C52,000000000140535D913404EA4B4029B820F03A901F,...,0000000001405371B1C8648840402A4729B936EDD3,000000000140536E7EC7863BEF402A48A73F748A16,000000000140536EF93F86FE8C402A48D8E284C4F6,000000000140536F04577D9557402A48B827FA1A0D,000000000140536F46D754E60B402A48380BE00813]]\n",
       "bbox: [\n",
       "  -- is_valid: all not null\n",
       "  -- child 0 type: float\n",
       "[77.46079,77.462265,77.46915,77.46657,77.461975,...,77.776474,77.72649,77.733955,77.734634,77.73869]\n",
       "  -- child 1 type: float\n",
       "[77.46081,77.46227,77.46916,77.46658,77.46199,...,77.77648,77.726494,77.73396,77.73464,77.7387]\n",
       "  -- child 2 type: float\n",
       "[12.850734,12.849405,12.847,12.853534,12.859625,...,13.1389885,13.141899,13.14228,13.14203,13.141052]\n",
       "  -- child 3 type: float\n",
       "[12.850736,12.849407,12.847002,12.853536,12.859627,...,13.13899,13.141901,13.142282,13.142032,13.141054]]\n",
       "version: [[0,0,0,0,0,...,0,0,0,0,0]]\n",
       "sources: [[    -- is_valid: all not null\n",
       "    -- child 0 type: string\n",
       "[\"\"]\n",
       "    -- child 1 type: string\n",
       "[\"meta\"]\n",
       "    -- child 2 type: string\n",
       "[\"146698565506013\"]\n",
       "    -- child 3 type: string\n",
       "[\"2024-08-02T00:00:00.000Z\"]\n",
       "    -- child 4 type: double\n",
       "[null],    -- is_valid: all not null\n",
       "    -- child 0 type: string\n",
       "[\"\"]\n",
       "    -- child 1 type: string\n",
       "[\"meta\"]\n",
       "    -- child 2 type: string\n",
       "[\"1521568611428934\"]\n",
       "    -- child 3 type: string\n",
       "[\"2024-08-02T00:00:00.000Z\"]\n",
       "    -- child 4 type: double\n",
       "[null],...,    -- is_valid: all not null\n",
       "    -- child 0 type: string\n",
       "[\"\"]\n",
       "    -- child 1 type: string\n",
       "[\"meta\"]\n",
       "    -- child 2 type: string\n",
       "[\"108875445386164\"]\n",
       "    -- child 3 type: string\n",
       "[\"2024-08-02T00:00:00.000Z\"]\n",
       "    -- child 4 type: double\n",
       "[null],    -- is_valid: all not null\n",
       "    -- child 0 type: string\n",
       "[\"\"]\n",
       "    -- child 1 type: string\n",
       "[\"meta\"]\n",
       "    -- child 2 type: string\n",
       "[\"639584169726634\"]\n",
       "    -- child 3 type: string\n",
       "[\"2024-08-02T00:00:00.000Z\"]\n",
       "    -- child 4 type: double\n",
       "[null]]]\n",
       "names: [\n",
       "  -- is_valid: all not null\n",
       "  -- child 0 type: string\n",
       "[\"Indian Institute of Journalism and News Media\",\"BGS School Of Architecture & Planning\",\"TVS - Anjanadri Motors\",\"Aikya Farm\",\"Vivekananda Institute of Technology, Bengaluru\",...,\"Bolt.Earth - Electric Vehicle Charging Station\",\"Marenahalli Gram Panchayat\",\"Our World of Dogs\",\"Arvind Greatlands - Plots in Devanahalli\",\"Cafe Chai Garam Chai LLP\"]\n",
       "  -- child 1 type: map<string, string ('common')>\n",
       "[null,null,null,null,null,...,null,null,null,null,null]\n",
       "  -- child 2 type: list<element: struct<variant: string, language: string, value: string, between: list<element: double>, side: string>>\n",
       "[null,null,...,null,null]]\n",
       "categories: [\n",
       "  -- is_valid:  [true,true,true,true,true,...,true,true,true,true,true]\n",
       "  -- child 0 type: string\n",
       "[\"college_university\",\"college_university\",\"motorcycle_dealer\",\"holiday_rental_home\",\"education\",...,\"ev_charging_station\",\"public_service_and_government\",\"pet_boarding\",\"real_estate\",\"coffee_shop\"]\n",
       "  -- child 1 type: list<element: string>\n",
       "[[\"campus_building\",\"specialty_school\"],[\"education\",\"architectural_designer\"],...,null,[\"restaurant\",\"cafe\"]]]\n",
       "confidence: [[0.6721518987341772,0.5416204217536071,0.6721518987341772,0.6721518987341772,0.6721518987341772,...,0.77,0.3617886178861789,0.77,0.3617886178861789,0.5416204217536071]]\n",
       "websites: [[[\"http://www.iijnm.org/\"],[\"http://bgssap.edu.in/\"],...,null,[\"http://www.cafecgc.com/\"]]]\n",
       "socials: [[[\"https://www.facebook.com/146698565506013\"],[\"https://www.facebook.com/1521568611428934\"],...,[\"https://www.facebook.com/108875445386164\"],[\"https://www.facebook.com/639584169726634\"]]]\n",
       "..."
      ]
     },
     "execution_count": 11,
     "metadata": {},
     "output_type": "execute_result"
    }
   ],
   "source": [
    "table"
   ]
  },
  {
   "cell_type": "code",
   "execution_count": 12,
   "metadata": {},
   "outputs": [],
   "source": [
    "# convert to dataframe\n",
    "df = table.to_pandas()"
   ]
  },
  {
   "cell_type": "code",
   "execution_count": 13,
   "metadata": {},
   "outputs": [],
   "source": [
    "# DataFrame to GeoDataFrame, set crs\n",
    "gdf = gpd.GeoDataFrame(\n",
    "    df,\n",
    "    geometry=df['geometry'].apply(wkb.loads),\n",
    "    crs=\"EPSG:4326\"\n",
    ")"
   ]
  },
  {
   "cell_type": "code",
   "execution_count": 14,
   "metadata": {},
   "outputs": [
    {
     "data": {
      "text/plain": [
       "(117415, 14)"
      ]
     },
     "execution_count": 14,
     "metadata": {},
     "output_type": "execute_result"
    }
   ],
   "source": [
    "gdf.shape"
   ]
  },
  {
   "cell_type": "code",
   "execution_count": 15,
   "metadata": {},
   "outputs": [
    {
     "data": {
      "text/html": [
       "<div>\n",
       "<style scoped>\n",
       "    .dataframe tbody tr th:only-of-type {\n",
       "        vertical-align: middle;\n",
       "    }\n",
       "\n",
       "    .dataframe tbody tr th {\n",
       "        vertical-align: top;\n",
       "    }\n",
       "\n",
       "    .dataframe thead th {\n",
       "        text-align: right;\n",
       "    }\n",
       "</style>\n",
       "<table border=\"1\" class=\"dataframe\">\n",
       "  <thead>\n",
       "    <tr style=\"text-align: right;\">\n",
       "      <th></th>\n",
       "      <th>id</th>\n",
       "      <th>geometry</th>\n",
       "      <th>bbox</th>\n",
       "      <th>version</th>\n",
       "      <th>sources</th>\n",
       "      <th>names</th>\n",
       "      <th>categories</th>\n",
       "      <th>confidence</th>\n",
       "      <th>websites</th>\n",
       "      <th>socials</th>\n",
       "      <th>emails</th>\n",
       "      <th>phones</th>\n",
       "      <th>brand</th>\n",
       "      <th>addresses</th>\n",
       "    </tr>\n",
       "  </thead>\n",
       "  <tbody>\n",
       "    <tr>\n",
       "      <th>0</th>\n",
       "      <td>08f601450331001d035e974c03daf427</td>\n",
       "      <td>POINT (77.46080 12.85074)</td>\n",
       "      <td>{'xmin': 77.4607925415039, 'xmax': 77.46080780...</td>\n",
       "      <td>0</td>\n",
       "      <td>[{'property': '', 'dataset': 'meta', 'record_i...</td>\n",
       "      <td>{'primary': 'Indian Institute of Journalism an...</td>\n",
       "      <td>{'primary': 'college_university', 'alternate':...</td>\n",
       "      <td>0.672152</td>\n",
       "      <td>[http://www.iijnm.org/]</td>\n",
       "      <td>[https://www.facebook.com/146698565506013]</td>\n",
       "      <td>None</td>\n",
       "      <td>[+108025432565]</td>\n",
       "      <td>None</td>\n",
       "      <td>[{'freeform': 'Opposite Bgs International Resi...</td>\n",
       "    </tr>\n",
       "    <tr>\n",
       "      <th>1</th>\n",
       "      <td>08f6014503069880033e767c5e25b3b0</td>\n",
       "      <td>POINT (77.46227 12.84941)</td>\n",
       "      <td>{'xmin': 77.46226501464844, 'xmax': 77.4622726...</td>\n",
       "      <td>0</td>\n",
       "      <td>[{'property': '', 'dataset': 'meta', 'record_i...</td>\n",
       "      <td>{'primary': 'BGS School Of Architecture &amp; Plan...</td>\n",
       "      <td>{'primary': 'college_university', 'alternate':...</td>\n",
       "      <td>0.541620</td>\n",
       "      <td>[http://bgssap.edu.in/]</td>\n",
       "      <td>[https://www.facebook.com/1521568611428934]</td>\n",
       "      <td>None</td>\n",
       "      <td>[+108028437582]</td>\n",
       "      <td>None</td>\n",
       "      <td>[{'freeform': 'Bgs International Residential S...</td>\n",
       "    </tr>\n",
       "    <tr>\n",
       "      <th>2</th>\n",
       "      <td>08f60145038f262903667ae29bd1ef61</td>\n",
       "      <td>POINT (77.46915 12.84700)</td>\n",
       "      <td>{'xmin': 77.46914672851562, 'xmax': 77.4691619...</td>\n",
       "      <td>0</td>\n",
       "      <td>[{'property': '', 'dataset': 'meta', 'record_i...</td>\n",
       "      <td>{'primary': 'TVS - Anjanadri Motors', 'common'...</td>\n",
       "      <td>{'primary': 'motorcycle_dealer', 'alternate': ...</td>\n",
       "      <td>0.672152</td>\n",
       "      <td>[http://www.tvsmotor.com]</td>\n",
       "      <td>[https://www.facebook.com/113072547834860]</td>\n",
       "      <td>None</td>\n",
       "      <td>[+919972130096]</td>\n",
       "      <td>None</td>\n",
       "      <td>[{'freeform': ' Main Road, near KH Circle, Kan...</td>\n",
       "    </tr>\n",
       "    <tr>\n",
       "      <th>3</th>\n",
       "      <td>08f60145030ac148039fb3a3fe22a6d5</td>\n",
       "      <td>POINT (77.46658 12.85353)</td>\n",
       "      <td>{'xmin': 77.46656799316406, 'xmax': 77.4665832...</td>\n",
       "      <td>0</td>\n",
       "      <td>[{'property': '', 'dataset': 'meta', 'record_i...</td>\n",
       "      <td>{'primary': 'Aikya Farm', 'common': None, 'rul...</td>\n",
       "      <td>{'primary': 'holiday_rental_home', 'alternate'...</td>\n",
       "      <td>0.672152</td>\n",
       "      <td>[https://www.airbnb.co.in/rooms/53283364?guest...</td>\n",
       "      <td>[https://www.facebook.com/104967985553342]</td>\n",
       "      <td>None</td>\n",
       "      <td>[+919071135381]</td>\n",
       "      <td>None</td>\n",
       "      <td>[{'freeform': 'Bengaluru, KA, India', 'localit...</td>\n",
       "    </tr>\n",
       "    <tr>\n",
       "      <th>4</th>\n",
       "      <td>08f6014503603c8c03dd6e0b4af0c050</td>\n",
       "      <td>POINT (77.46199 12.85963)</td>\n",
       "      <td>{'xmin': 77.46197509765625, 'xmax': 77.4619903...</td>\n",
       "      <td>0</td>\n",
       "      <td>[{'property': '', 'dataset': 'meta', 'record_i...</td>\n",
       "      <td>{'primary': 'Vivekananda Institute of Technolo...</td>\n",
       "      <td>{'primary': 'education', 'alternate': ['b2b_sc...</td>\n",
       "      <td>0.672152</td>\n",
       "      <td>[http://vitb.ac.in]</td>\n",
       "      <td>[https://www.facebook.com/100757474967836]</td>\n",
       "      <td>None</td>\n",
       "      <td>[+17625013435]</td>\n",
       "      <td>None</td>\n",
       "      <td>[{'freeform': 'Gudimaavu', 'locality': None, '...</td>\n",
       "    </tr>\n",
       "  </tbody>\n",
       "</table>\n",
       "</div>"
      ],
      "text/plain": [
       "                                 id                   geometry  \\\n",
       "0  08f601450331001d035e974c03daf427  POINT (77.46080 12.85074)   \n",
       "1  08f6014503069880033e767c5e25b3b0  POINT (77.46227 12.84941)   \n",
       "2  08f60145038f262903667ae29bd1ef61  POINT (77.46915 12.84700)   \n",
       "3  08f60145030ac148039fb3a3fe22a6d5  POINT (77.46658 12.85353)   \n",
       "4  08f6014503603c8c03dd6e0b4af0c050  POINT (77.46199 12.85963)   \n",
       "\n",
       "                                                bbox  version  \\\n",
       "0  {'xmin': 77.4607925415039, 'xmax': 77.46080780...        0   \n",
       "1  {'xmin': 77.46226501464844, 'xmax': 77.4622726...        0   \n",
       "2  {'xmin': 77.46914672851562, 'xmax': 77.4691619...        0   \n",
       "3  {'xmin': 77.46656799316406, 'xmax': 77.4665832...        0   \n",
       "4  {'xmin': 77.46197509765625, 'xmax': 77.4619903...        0   \n",
       "\n",
       "                                             sources  \\\n",
       "0  [{'property': '', 'dataset': 'meta', 'record_i...   \n",
       "1  [{'property': '', 'dataset': 'meta', 'record_i...   \n",
       "2  [{'property': '', 'dataset': 'meta', 'record_i...   \n",
       "3  [{'property': '', 'dataset': 'meta', 'record_i...   \n",
       "4  [{'property': '', 'dataset': 'meta', 'record_i...   \n",
       "\n",
       "                                               names  \\\n",
       "0  {'primary': 'Indian Institute of Journalism an...   \n",
       "1  {'primary': 'BGS School Of Architecture & Plan...   \n",
       "2  {'primary': 'TVS - Anjanadri Motors', 'common'...   \n",
       "3  {'primary': 'Aikya Farm', 'common': None, 'rul...   \n",
       "4  {'primary': 'Vivekananda Institute of Technolo...   \n",
       "\n",
       "                                          categories  confidence  \\\n",
       "0  {'primary': 'college_university', 'alternate':...    0.672152   \n",
       "1  {'primary': 'college_university', 'alternate':...    0.541620   \n",
       "2  {'primary': 'motorcycle_dealer', 'alternate': ...    0.672152   \n",
       "3  {'primary': 'holiday_rental_home', 'alternate'...    0.672152   \n",
       "4  {'primary': 'education', 'alternate': ['b2b_sc...    0.672152   \n",
       "\n",
       "                                            websites  \\\n",
       "0                            [http://www.iijnm.org/]   \n",
       "1                            [http://bgssap.edu.in/]   \n",
       "2                          [http://www.tvsmotor.com]   \n",
       "3  [https://www.airbnb.co.in/rooms/53283364?guest...   \n",
       "4                                [http://vitb.ac.in]   \n",
       "\n",
       "                                       socials emails           phones brand  \\\n",
       "0   [https://www.facebook.com/146698565506013]   None  [+108025432565]  None   \n",
       "1  [https://www.facebook.com/1521568611428934]   None  [+108028437582]  None   \n",
       "2   [https://www.facebook.com/113072547834860]   None  [+919972130096]  None   \n",
       "3   [https://www.facebook.com/104967985553342]   None  [+919071135381]  None   \n",
       "4   [https://www.facebook.com/100757474967836]   None   [+17625013435]  None   \n",
       "\n",
       "                                           addresses  \n",
       "0  [{'freeform': 'Opposite Bgs International Resi...  \n",
       "1  [{'freeform': 'Bgs International Residential S...  \n",
       "2  [{'freeform': ' Main Road, near KH Circle, Kan...  \n",
       "3  [{'freeform': 'Bengaluru, KA, India', 'localit...  \n",
       "4  [{'freeform': 'Gudimaavu', 'locality': None, '...  "
      ]
     },
     "execution_count": 15,
     "metadata": {},
     "output_type": "execute_result"
    }
   ],
   "source": [
    "gdf.head()"
   ]
  },
  {
   "cell_type": "code",
   "execution_count": 16,
   "metadata": {},
   "outputs": [
    {
     "data": {
      "text/plain": [
       "Index(['id', 'geometry', 'bbox', 'version', 'sources', 'names', 'categories',\n",
       "       'confidence', 'websites', 'socials', 'emails', 'phones', 'brand',\n",
       "       'addresses'],\n",
       "      dtype='object')"
      ]
     },
     "execution_count": 16,
     "metadata": {},
     "output_type": "execute_result"
    }
   ],
   "source": [
    "gdf.columns"
   ]
  },
  {
   "cell_type": "code",
   "execution_count": 17,
   "metadata": {},
   "outputs": [
    {
     "data": {
      "text/plain": [
       "0         {'primary': 'college_university', 'alternate':...\n",
       "1         {'primary': 'college_university', 'alternate':...\n",
       "2         {'primary': 'motorcycle_dealer', 'alternate': ...\n",
       "3         {'primary': 'holiday_rental_home', 'alternate'...\n",
       "4         {'primary': 'education', 'alternate': ['b2b_sc...\n",
       "                                ...                        \n",
       "117410    {'primary': 'ev_charging_station', 'alternate'...\n",
       "117411    {'primary': 'public_service_and_government', '...\n",
       "117412    {'primary': 'pet_boarding', 'alternate': ['pet...\n",
       "117413        {'primary': 'real_estate', 'alternate': None}\n",
       "117414    {'primary': 'coffee_shop', 'alternate': ['rest...\n",
       "Name: categories, Length: 117415, dtype: object"
      ]
     },
     "execution_count": 17,
     "metadata": {},
     "output_type": "execute_result"
    }
   ],
   "source": [
    "gdf.categories"
   ]
  },
  {
   "cell_type": "markdown",
   "metadata": {},
   "source": [
    "Would be interesting to see what is in that! For later."
   ]
  },
  {
   "cell_type": "code",
   "execution_count": 18,
   "metadata": {},
   "outputs": [],
   "source": [
    "gdf.dropna(subset=['categories'], inplace=True)"
   ]
  },
  {
   "cell_type": "code",
   "execution_count": 19,
   "metadata": {},
   "outputs": [
    {
     "data": {
      "text/plain": [
       "(111606, 14)"
      ]
     },
     "execution_count": 19,
     "metadata": {},
     "output_type": "execute_result"
    }
   ],
   "source": [
    "gdf.shape"
   ]
  },
  {
   "cell_type": "code",
   "execution_count": 20,
   "metadata": {},
   "outputs": [],
   "source": [
    "gdf['Type'] = gdf['categories'].apply(lambda x: x['primary'])"
   ]
  },
  {
   "cell_type": "code",
   "execution_count": 21,
   "metadata": {},
   "outputs": [],
   "source": [
    "gdf_restaurant = gdf[gdf['Type'].str.contains('restaurant')]"
   ]
  },
  {
   "cell_type": "code",
   "execution_count": 22,
   "metadata": {},
   "outputs": [
    {
     "data": {
      "text/plain": [
       "(7702, 15)"
      ]
     },
     "execution_count": 22,
     "metadata": {},
     "output_type": "execute_result"
    }
   ],
   "source": [
    "gdf_restaurant.shape"
   ]
  },
  {
   "cell_type": "code",
   "execution_count": 23,
   "metadata": {},
   "outputs": [
    {
     "data": {
      "text/plain": [
       "<Axes: >"
      ]
     },
     "execution_count": 23,
     "metadata": {},
     "output_type": "execute_result"
    },
    {
     "data": {
      "image/png": "[encoded data removed]",
      "text/plain": [
       "<Figure size 640x480 with 1 Axes>"
      ]
     },
     "metadata": {},
     "output_type": "display_data"
    }
   ],
   "source": [
    "gdf_restaurant.plot()"
   ]
  },
  {
   "cell_type": "code",
   "execution_count": 37,
   "metadata": {},
   "outputs": [],
   "source": [
    "layer = ScatterplotLayer.from_geopandas(\n",
    "    gdf= gdf_restaurant[['id', 'geometry', 'names']].reset_index(drop=True),\n",
    "    get_fill_color=[255, 0, 255],\n",
    "    get_line_color=[255, 0, 255],\n",
    ")"
   ]
  },
  {
   "cell_type": "code",
   "execution_count": 38,
   "metadata": {},
   "outputs": [
    {
     "name": "stderr",
     "output_type": "stream",
     "text": [
      "C:\\Users\\ellen\\AppData\\Local\\Temp\\ipykernel_132400\\1506734033.py:1: UserWarning: Geometry is in a geographic CRS. Results from 'centroid' are likely incorrect. Use 'GeoSeries.to_crs()' to re-project geometries to a projected CRS before this operation.\n",
      "\n",
      "  bangalore.centroid # Actually not the right way to do but quick and dirty for the time being\n"
     ]
    },
    {
     "data": {
      "text/plain": [
       "0    POINT (77.60301 12.97630)\n",
       "dtype: geometry"
      ]
     },
     "execution_count": 38,
     "metadata": {},
     "output_type": "execute_result"
    }
   ],
   "source": [
    "bangalore.centroid # Actually not the right way to do but quick and dirty for the time being"
   ]
  },
  {
   "cell_type": "code",
   "execution_count": 47,
   "metadata": {},
   "outputs": [
    {
     "data": {
      "application/vnd.jupyter.widget-view+json": {
       "model_id": "c5b021ef435e4743bd2cade355320867",
       "version_major": 2,
       "version_minor": 1
      },
      "text/plain": [
       "Map(basemap_style=<CartoBasemap.DarkMatter: 'https://basemaps.cartocdn.com/gl/dark-matter-gl-style/style.json'…"
      ]
     },
     "execution_count": 47,
     "metadata": {},
     "output_type": "execute_result"
    }
   ],
   "source": [
    "view_state = {\n",
    "    \"longitude\": 77.604675,\n",
    "    \"latitude\": 12.975001,\n",
    "    \"zoom\": 11,\n",
    "    \"pitch\": 45,\n",
    "}\n",
    "m = Map(basemap_style=CartoBasemap.DarkMatter,layers = layer, view_state=view_state)\n",
    "m"
   ]
  },
  {
   "cell_type": "code",
   "execution_count": null,
   "metadata": {},
   "outputs": [],
   "source": []
  }
 ],
 "metadata": {
  "kernelspec": {
   "display_name": "geoproject",
   "language": "python",
   "name": "python3"
  },
  "language_info": {
   "codemirror_mode": {
    "name": "ipython",
    "version": 3
   },
   "file_extension": ".py",
   "mimetype": "text/x-python",
   "name": "python",
   "nbconvert_exporter": "python",
   "pygments_lexer": "ipython3",
   "version": "3.11.10"
  }
 },
 "nbformat": 4,
 "nbformat_minor": 2
}
