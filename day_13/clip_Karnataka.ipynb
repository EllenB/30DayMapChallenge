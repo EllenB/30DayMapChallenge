{
 "cells": [
  {
   "cell_type": "markdown",
   "id": "a1858ee5-6a88-47af-8e27-e2007ae18f7b",
   "metadata": {},
   "source": [
    "## Introduction\n",
    "\n",
    "In this code, I sample a small sample from the India data obtained from the 2020 HDX Kontur historical data: https://data.humdata.org/dataset/india-historical-population-density-for-1975-2020-for-400m-h3-hexagons"
   ]
  },
  {
   "cell_type": "code",
   "execution_count": 1,
   "id": "2cec1601-f8d5-44f5-b1de-a92bf3c46909",
   "metadata": {},
   "outputs": [],
   "source": [
    "import geopandas as gpd\n",
    "import os"
   ]
  },
  {
   "cell_type": "markdown",
   "id": "a3c7505c-e83e-4f2f-bdf4-5ee2739e6e1d",
   "metadata": {},
   "source": [
    "Not the most elegant way to code as I prefer Pathlib and keep it more OS agnostic:"
   ]
  },
  {
   "cell_type": "code",
   "execution_count": 2,
   "id": "ae51cca2-4fc3-4418-90d8-eaa663a2ed59",
   "metadata": {},
   "outputs": [],
   "source": [
    "dir = 'C:\\\\Ellen\\\\personal\\\\projects\\\\geospatial\\\\map_challenge_30_days\\\\day_8'"
   ]
  },
  {
   "cell_type": "code",
   "execution_count": 3,
   "id": "f0edc3c5-0530-43ea-855b-01c8eb9a37ac",
   "metadata": {},
   "outputs": [],
   "source": [
    "file_name = 'kontur_historical_population_density_for_2020_IN_20230621.gpkg'"
   ]
  },
  {
   "cell_type": "code",
   "execution_count": 4,
   "id": "090643bf-648f-43ab-a3ab-0caa2f3b1e20",
   "metadata": {},
   "outputs": [],
   "source": [
    "file_path = os.path.join(dir,file_name)"
   ]
  },
  {
   "cell_type": "code",
   "execution_count": 5,
   "id": "4d90a87f-6c75-45c5-a352-930602734d64",
   "metadata": {},
   "outputs": [
    {
     "name": "stdout",
     "output_type": "stream",
     "text": [
      "CPU times: total: 0 ns\n",
      "Wall time: 0 ns\n"
     ]
    }
   ],
   "source": [
    "%time \n",
    "map_2020 = gpd.read_file(file_path, engine=\"pyogrio\") #pyogrio to speed things up"
   ]
  },
  {
   "cell_type": "code",
   "execution_count": 6,
   "id": "00e1bc40-7823-4b72-86bb-068ce8262207",
   "metadata": {},
   "outputs": [
    {
     "data": {
      "text/html": [
       "<div>\n",
       "<style scoped>\n",
       "    .dataframe tbody tr th:only-of-type {\n",
       "        vertical-align: middle;\n",
       "    }\n",
       "\n",
       "    .dataframe tbody tr th {\n",
       "        vertical-align: top;\n",
       "    }\n",
       "\n",
       "    .dataframe thead th {\n",
       "        text-align: right;\n",
       "    }\n",
       "</style>\n",
       "<table border=\"1\" class=\"dataframe\">\n",
       "  <thead>\n",
       "    <tr style=\"text-align: right;\">\n",
       "      <th></th>\n",
       "      <th>h3</th>\n",
       "      <th>population</th>\n",
       "      <th>geometry</th>\n",
       "    </tr>\n",
       "  </thead>\n",
       "  <tbody>\n",
       "    <tr>\n",
       "      <th>0</th>\n",
       "      <td>8864e6ceddfffff</td>\n",
       "      <td>189</td>\n",
       "      <td>POLYGON ((93.04213 13.23463, 93.04248 13.23986...</td>\n",
       "    </tr>\n",
       "    <tr>\n",
       "      <th>1</th>\n",
       "      <td>8864e6ced9fffff</td>\n",
       "      <td>50</td>\n",
       "      <td>POLYGON ((93.03695 13.22707, 93.03730 13.23230...</td>\n",
       "    </tr>\n",
       "    <tr>\n",
       "      <th>2</th>\n",
       "      <td>8864e6ced1fffff</td>\n",
       "      <td>4</td>\n",
       "      <td>POLYGON ((93.03283 13.23520, 93.03318 13.24042...</td>\n",
       "    </tr>\n",
       "    <tr>\n",
       "      <th>3</th>\n",
       "      <td>8864e6cecbfffff</td>\n",
       "      <td>666</td>\n",
       "      <td>POLYGON ((93.05143 13.23406, 93.05179 13.23929...</td>\n",
       "    </tr>\n",
       "    <tr>\n",
       "      <th>4</th>\n",
       "      <td>8864e6cec3fffff</td>\n",
       "      <td>133</td>\n",
       "      <td>POLYGON ((93.04731 13.24219, 93.04766 13.24742...</td>\n",
       "    </tr>\n",
       "  </tbody>\n",
       "</table>\n",
       "</div>"
      ],
      "text/plain": [
       "                h3  population  \\\n",
       "0  8864e6ceddfffff         189   \n",
       "1  8864e6ced9fffff          50   \n",
       "2  8864e6ced1fffff           4   \n",
       "3  8864e6cecbfffff         666   \n",
       "4  8864e6cec3fffff         133   \n",
       "\n",
       "                                            geometry  \n",
       "0  POLYGON ((93.04213 13.23463, 93.04248 13.23986...  \n",
       "1  POLYGON ((93.03695 13.22707, 93.03730 13.23230...  \n",
       "2  POLYGON ((93.03283 13.23520, 93.03318 13.24042...  \n",
       "3  POLYGON ((93.05143 13.23406, 93.05179 13.23929...  \n",
       "4  POLYGON ((93.04731 13.24219, 93.04766 13.24742...  "
      ]
     },
     "execution_count": 6,
     "metadata": {},
     "output_type": "execute_result"
    }
   ],
   "source": [
    "map_2020.head()"
   ]
  },
  {
   "cell_type": "code",
   "execution_count": 7,
   "id": "898a98b1-8943-4b8c-ada7-b60a02120cf5",
   "metadata": {},
   "outputs": [
    {
     "data": {
      "text/plain": [
       "(2821561, 3)"
      ]
     },
     "execution_count": 7,
     "metadata": {},
     "output_type": "execute_result"
    }
   ],
   "source": [
    "map_2020.shape"
   ]
  },
  {
   "cell_type": "markdown",
   "id": "5c06024c-5151-4185-afd2-509bd55e516c",
   "metadata": {},
   "source": [
    "Now, we need to read in the shape file for the different states in India. The source is: https://github.com/datameet/maps/tree/master/Survey-of-India-Index-Maps/StateBoundary "
   ]
  },
  {
   "cell_type": "code",
   "execution_count": 8,
   "id": "b76a651b-004c-4599-80c6-dcde213b9346",
   "metadata": {},
   "outputs": [],
   "source": [
    "state_dir = os.path.join(dir, 'StateBoundary.shp')"
   ]
  },
  {
   "cell_type": "code",
   "execution_count": 9,
   "id": "993b13ac-16dd-42da-a22d-22f14c5fe6f6",
   "metadata": {},
   "outputs": [],
   "source": [
    "state = gpd.read_file(state_dir)"
   ]
  },
  {
   "cell_type": "code",
   "execution_count": 10,
   "id": "4d248878-04c1-4bd4-9284-db1bb4be5f1e",
   "metadata": {},
   "outputs": [
    {
     "data": {
      "text/html": [
       "<div>\n",
       "<style scoped>\n",
       "    .dataframe tbody tr th:only-of-type {\n",
       "        vertical-align: middle;\n",
       "    }\n",
       "\n",
       "    .dataframe tbody tr th {\n",
       "        vertical-align: top;\n",
       "    }\n",
       "\n",
       "    .dataframe thead th {\n",
       "        text-align: right;\n",
       "    }\n",
       "</style>\n",
       "<table border=\"1\" class=\"dataframe\">\n",
       "  <thead>\n",
       "    <tr style=\"text-align: right;\">\n",
       "      <th></th>\n",
       "      <th>state</th>\n",
       "      <th>geometry</th>\n",
       "    </tr>\n",
       "  </thead>\n",
       "  <tbody>\n",
       "    <tr>\n",
       "      <th>0</th>\n",
       "      <td>ANDAMAN &amp; NICOBAR</td>\n",
       "      <td>MULTIPOLYGON (((10341718.474 1449533.161, 1034...</td>\n",
       "    </tr>\n",
       "    <tr>\n",
       "      <th>1</th>\n",
       "      <td>CHANDIGARH</td>\n",
       "      <td>POLYGON ((8546255.616 3606050.813, 8546315.400...</td>\n",
       "    </tr>\n",
       "    <tr>\n",
       "      <th>2</th>\n",
       "      <td>DADAR &amp; NAGAR HAVELI</td>\n",
       "      <td>MULTIPOLYGON (((8137193.486 2315664.964, 81373...</td>\n",
       "    </tr>\n",
       "    <tr>\n",
       "      <th>3</th>\n",
       "      <td>DAMAN &amp; DIU</td>\n",
       "      <td>MULTIPOLYGON (((8111624.471 2328002.898, 81117...</td>\n",
       "    </tr>\n",
       "    <tr>\n",
       "      <th>4</th>\n",
       "      <td>DELHI</td>\n",
       "      <td>POLYGON ((8583390.570 3359116.190, 8583476.212...</td>\n",
       "    </tr>\n",
       "  </tbody>\n",
       "</table>\n",
       "</div>"
      ],
      "text/plain": [
       "                  state                                           geometry\n",
       "0     ANDAMAN & NICOBAR  MULTIPOLYGON (((10341718.474 1449533.161, 1034...\n",
       "1            CHANDIGARH  POLYGON ((8546255.616 3606050.813, 8546315.400...\n",
       "2  DADAR & NAGAR HAVELI  MULTIPOLYGON (((8137193.486 2315664.964, 81373...\n",
       "3           DAMAN & DIU  MULTIPOLYGON (((8111624.471 2328002.898, 81117...\n",
       "4                 DELHI  POLYGON ((8583390.570 3359116.190, 8583476.212..."
      ]
     },
     "execution_count": 10,
     "metadata": {},
     "output_type": "execute_result"
    }
   ],
   "source": [
    "state.head()"
   ]
  },
  {
   "cell_type": "code",
   "execution_count": 11,
   "id": "58f035a5-7c5e-4605-8c7b-1c144f862940",
   "metadata": {},
   "outputs": [
    {
     "data": {
      "text/plain": [
       "(37, 2)"
      ]
     },
     "execution_count": 11,
     "metadata": {},
     "output_type": "execute_result"
    }
   ],
   "source": [
    "state.shape"
   ]
  },
  {
   "cell_type": "code",
   "execution_count": 12,
   "id": "53ac8452-a1d0-4144-a2f5-8aefe70ccada",
   "metadata": {},
   "outputs": [
    {
     "data": {
      "text/plain": [
       "<Axes: >"
      ]
     },
     "execution_count": 12,
     "metadata": {},
     "output_type": "execute_result"
    },
    {
     "data": {
      "image/png": "[encoded data removed]",
      "text/plain": [
       "<Figure size 640x480 with 1 Axes>"
      ]
     },
     "metadata": {},
     "output_type": "display_data"
    }
   ],
   "source": [
    "state.plot()"
   ]
  },
  {
   "cell_type": "code",
   "execution_count": 13,
   "id": "6300012d-9734-49d1-a5cd-8dcfe14f37bf",
   "metadata": {},
   "outputs": [],
   "source": [
    "karnataka = state[state['state']=='KARNATAKA']"
   ]
  },
  {
   "cell_type": "code",
   "execution_count": 14,
   "id": "795621ed-068a-478f-8559-b2f1f5841cdc",
   "metadata": {},
   "outputs": [
    {
     "data": {
      "text/plain": [
       "<Axes: >"
      ]
     },
     "execution_count": 14,
     "metadata": {},
     "output_type": "execute_result"
    },
    {
     "data": {
      "image/png": "[encoded data removed]",
      "text/plain": [
       "<Figure size 640x480 with 1 Axes>"
      ]
     },
     "metadata": {},
     "output_type": "display_data"
    }
   ],
   "source": [
    "karnataka.plot()"
   ]
  },
  {
   "cell_type": "code",
   "execution_count": 15,
   "id": "3239cce6-c3ad-4034-ab56-63ce381069ca",
   "metadata": {},
   "outputs": [],
   "source": [
    "karnataka.to_file('karnataka.shp') # To save for later"
   ]
  },
  {
   "cell_type": "code",
   "execution_count": 16,
   "id": "a24c8c17-cf81-40bb-940b-5eeb1aa244cf",
   "metadata": {},
   "outputs": [
    {
     "data": {
      "text/plain": [
       "<Projected CRS: EPSG:3857>\n",
       "Name: WGS 84 / Pseudo-Mercator\n",
       "Axis Info [cartesian]:\n",
       "- X[east]: Easting (metre)\n",
       "- Y[north]: Northing (metre)\n",
       "Area of Use:\n",
       "- name: World between 85.06°S and 85.06°N.\n",
       "- bounds: (-180.0, -85.06, 180.0, 85.06)\n",
       "Coordinate Operation:\n",
       "- name: Popular Visualisation Pseudo-Mercator\n",
       "- method: Popular Visualisation Pseudo Mercator\n",
       "Datum: World Geodetic System 1984 ensemble\n",
       "- Ellipsoid: WGS 84\n",
       "- Prime Meridian: Greenwich"
      ]
     },
     "execution_count": 16,
     "metadata": {},
     "output_type": "execute_result"
    }
   ],
   "source": [
    "karnataka.crs"
   ]
  },
  {
   "cell_type": "code",
   "execution_count": 17,
   "id": "afd2b46b-a137-4a8e-9415-b6c894fa88c1",
   "metadata": {},
   "outputs": [
    {
     "data": {
      "text/plain": [
       "<Geographic 2D CRS: EPSG:4326>\n",
       "Name: WGS 84\n",
       "Axis Info [ellipsoidal]:\n",
       "- Lat[north]: Geodetic latitude (degree)\n",
       "- Lon[east]: Geodetic longitude (degree)\n",
       "Area of Use:\n",
       "- name: World.\n",
       "- bounds: (-180.0, -90.0, 180.0, 90.0)\n",
       "Datum: World Geodetic System 1984 ensemble\n",
       "- Ellipsoid: WGS 84\n",
       "- Prime Meridian: Greenwich"
      ]
     },
     "execution_count": 17,
     "metadata": {},
     "output_type": "execute_result"
    }
   ],
   "source": [
    "map_2020.crs"
   ]
  },
  {
   "cell_type": "code",
   "execution_count": 18,
   "id": "cede45d5-9dba-4377-854d-0cb74abe2060",
   "metadata": {},
   "outputs": [],
   "source": [
    "# Reproject Karnataka\n",
    "karnataka_reproj = karnataka.to_crs('4326')"
   ]
  },
  {
   "cell_type": "markdown",
   "id": "c4f2f1d0-4fa7-4209-9716-41e185d42da0",
   "metadata": {},
   "source": [
    "The following cell does take a lot of time to execute "
   ]
  },
  {
   "cell_type": "code",
   "execution_count": null,
   "id": "06a1e753-3d61-4b45-b367-09d2c145abc0",
   "metadata": {},
   "outputs": [],
   "source": [
    "map_2020_clipped_karnataka = map_2020.clip(karnataka_reproj)"
   ]
  },
  {
   "cell_type": "code",
   "execution_count": null,
   "id": "027bdab2-ac98-40b3-868c-c5f8b887d2bb",
   "metadata": {},
   "outputs": [],
   "source": [
    "map_2020_clipped_karnataka.shape"
   ]
  },
  {
   "cell_type": "code",
   "execution_count": null,
   "id": "84a3b55c-e96f-4327-acb4-da125c56c240",
   "metadata": {},
   "outputs": [],
   "source": [
    "This cell below takes really a lot of time to do so please be patient."
   ]
  },
  {
   "cell_type": "code",
   "execution_count": null,
   "id": "c644ab8c-a75a-4480-947f-8d006461fc86",
   "metadata": {},
   "outputs": [],
   "source": [
    "map_2020_clipped_karnataka.to_file('karnataka_population.shp') # In case you want to shave the file"
   ]
  },
  {
   "cell_type": "code",
   "execution_count": null,
   "id": "b8aa8856-0449-4fa8-8b4a-a17a4b5ae7b1",
   "metadata": {},
   "outputs": [],
   "source": []
  }
 ],
 "metadata": {
  "kernelspec": {
   "display_name": "Python 3 (ipykernel)",
   "language": "python",
   "name": "python3"
  },
  "language_info": {
   "codemirror_mode": {
    "name": "ipython",
    "version": 3
   },
   "file_extension": ".py",
   "mimetype": "text/x-python",
   "name": "python",
   "nbconvert_exporter": "python",
   "pygments_lexer": "ipython3",
   "version": "3.11.10"
  }
 },
 "nbformat": 4,
 "nbformat_minor": 5
}
